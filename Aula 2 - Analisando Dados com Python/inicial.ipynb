{
 "cells": [
  {
   "cell_type": "markdown",
   "metadata": {},
   "source": [
    "# Python Insights - Analisando Dados com Python\n",
    "\n",
    "### Case - Cancelamento de Clientes\n",
    "\n",
    "Você foi contratado por uma empresa com mais de 800 mil clientes para um projeto de Dados. Recentemente a empresa percebeu que da sua base total de clientes, a maioria são clientes inativos, ou seja, que já cancelaram o serviço.\n",
    "\n",
    "Precisando melhorar seus resultados ela quer conseguir entender os principais motivos desses cancelamentos e quais as ações mais eficientes para reduzir esse número.\n",
    "\n",
    "Base de dados e arquivos: https://drive.google.com/drive/folders/1uDesZePdkhiraJmiyeZ-w5tfc8XsNYFZ?usp=drive_link"
   ]
  },
  {
   "cell_type": "code",
   "execution_count": null,
   "metadata": {},
   "outputs": [],
   "source": [
    "# Passo a passo do projeto\n",
    "# Passo 1: Importar a base de dados de clientes\n",
    "# Passo 2: Visualizar a base de dados\n",
    "# Passo 3: Corrigir os problemas da base de dados\n",
    "# Passo 4: Análise dos cancelamentos\n",
    "# Passo 5: Análise da causa do cancelamento\n",
    "\n",
    "# trabalhar com base de dados -> pandas\n",
    "# graficos e dashboards -> plotly\n",
    "# !pip install openpyxl nbformat ipykernel plotly"
   ]
  },
  {
   "cell_type": "code",
   "execution_count": null,
   "metadata": {},
   "outputs": [],
   "source": [
    "# Passo 1: Importar a base de dados de clientes\n",
    "import pandas as pd\n",
    "\n",
    "tabela = pd.read_csv('cancelamentos.csv')\n",
    "\n",
    "# Passo 2: Visualizar a base de dados\n",
    "# Colunas inúteis -  informações que não te ajudam, te atrapalham\n",
    "tabela = tabela.drop(columns=\"CustomerID\") # excluíndo o ID dos clientes\n",
    "display(tabela)"
   ]
  },
  {
   "cell_type": "code",
   "execution_count": null,
   "metadata": {},
   "outputs": [],
   "source": [
    "# Passo 3: Corrigir os problemas da base de dados\n",
    "# valores vazios - erros de preenchimento\n",
    "\n",
    "display(tabela.info())\n",
    "tabela = tabela.dropna() # explui as linhas que tivem vazios\n",
    "display(tabela.info())"
   ]
  },
  {
   "cell_type": "code",
   "execution_count": null,
   "metadata": {},
   "outputs": [],
   "source": [
    "# Passo 4: Análise dos cancelamentos\n",
    "\n",
    "display(tabela[\"cancelou\"].value_counts()) # conta os valores dessa coluna\n",
    "\n",
    "display(tabela[\"cancelou\"].value_counts(normalize=True)) # conta os valores dessa coluna em percentual (Normalizar)\n",
    "\n",
    "display(tabela[\"cancelou\"].value_counts(normalize=True).map(\"{:.1%}\".format)) # conta os valores dessa coluna em percentual (Normalizar) e aplicando uma função de formatação\n",
    "\n"
   ]
  },
  {
   "cell_type": "code",
   "execution_count": null,
   "metadata": {},
   "outputs": [],
   "source": [
    "# Passo 5: Análise da causa do cancelamento\n",
    "import plotly.express as px\n",
    "\n",
    "# criar um gráfico\n",
    "# para cada coluna da minha tabela\n",
    "for coluna in tabela.columns:\n",
    "    grafico = px.histogram(tabela, x=coluna, color=\"cancelou\")\n",
    "\n",
    "    # exibe o gráfico\n",
    "    grafico.show()"
   ]
  },
  {
   "cell_type": "code",
   "execution_count": null,
   "metadata": {},
   "outputs": [],
   "source": [
    "# Passo 5: Análise da causa do cancelamento\n",
    "\n",
    "# se um clinete ligar mais de 4 vezes para o call center, ele vai cancelar\n",
    "#     criar um processo que um cliente ligou 3 vezes, a gente faz de tudod para resolver  \n",
    "\n",
    "# se um cliente atrsar o pagamento mais de 20 dias, ele cancela\n",
    "#   criar um processo para não deixar o cliente atrasar o pagametno mais de 20 dias\n",
    "\n",
    "# todos os clientes do contrato mensal cancelam\n",
    "#   oferecer descontos nos planos anuais e trimestrais\n",
    "\n",
    "\n",
    "# se eu resolver esses problemas como fica os cancelamentos\n",
    "tabela = tabela[tabela[\"duracao_contrato\"]!=\"Monthly\"] # sem duração o contrato mensal\n",
    "\n",
    "tabela = tabela[tabela[\"ligacoes_callcenter\"]<=4] # sem ligação do call center acima de 4 vezes\n",
    "\n",
    "tabela = tabela[tabela[\"dias_atraso\"]<=20] # sem atraso de pagamento maior do que 20 dias\n",
    "\n",
    "display(tabela[\"cancelou\"].value_counts(normalize=True)) # conta os valores dessa coluna em percentual (Normalizar)"
   ]
  }
 ],
 "metadata": {
  "kernelspec": {
   "display_name": "base",
   "language": "python",
   "name": "python3"
  },
  "language_info": {
   "codemirror_mode": {
    "name": "ipython",
    "version": 3
   },
   "file_extension": ".py",
   "mimetype": "text/x-python",
   "name": "python",
   "nbconvert_exporter": "python",
   "pygments_lexer": "ipython3",
   "version": "3.12.1"
  },
  "orig_nbformat": 4
 },
 "nbformat": 4,
 "nbformat_minor": 2
}
